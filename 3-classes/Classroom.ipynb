{
 "cells": [
  {
   "cell_type": "markdown",
   "metadata": {},
   "source": [
    "### 1. Module einfügen"
   ]
  },
  {
   "cell_type": "code",
   "execution_count": 1,
   "metadata": {},
   "outputs": [],
   "source": [
    "from random import shuffle"
   ]
  },
  {
   "cell_type": "markdown",
   "metadata": {},
   "source": [
    "### 2. Klasse definieren"
   ]
  },
  {
   "cell_type": "code",
   "execution_count": 2,
   "metadata": {},
   "outputs": [],
   "source": [
    "class Classroom():\n",
    "    \n",
    "    # Eigenschaften der Klasse \"Classroom\" definieren\n",
    "    \n",
    "    classroom_count = 0\n",
    "    \n",
    "    def __init__(self, name):\n",
    "        \"\"\" Benennt den Studiengang des Bootcamps. \"\"\"      \n",
    "        self.name = name\n",
    "        self.class_list = []\n",
    "        self.presence_list = []\n",
    "        self.classroom_count += 1\n",
    "            \n",
    "    def add_class_member(self, name):\n",
    "        \"\"\" Fügt die Teilnehmer des Bootcamp-Kurses hinzu. \"\"\"\n",
    "        self.class_list.append(name)\n",
    "    \n",
    "    def get_class_list(self):\n",
    "        \"\"\" Gibt die Klassenliste aus. \"\"\"\n",
    "        print(set(self.class_list))\n",
    "     \n",
    "       \n",
    "    # Methoden für die Klasse \"Classroom\" definieren\n",
    "    \n",
    "    def add_presence(self, name, anwesend):\n",
    "        \"\"\" Erfasst alle heute anwesenden Teilnehmer in einer Anwesenheitsliste. \"\"\"\n",
    "        if anwesend == 1:\n",
    "            self.presence_list.append(name)\n",
    "    \n",
    "    def get_presence(self):\n",
    "        \"\"\" Gibt die Anwesenheitsliste aus. \"\"\"\n",
    "        print(self.presence_list)\n",
    "        \n",
    "    def seating(self):\n",
    "        \"\"\" Gibt eine zufällige Sitzordnung aus. \"\"\"\n",
    "        seating_today = self.presence_list[:] # Kopie erstellen\n",
    "        shuffle(seating_today)                # Kopie mischen\n",
    "        print(seating_today)\n",
    "        \n",
    "    def groups(self, amount):\n",
    "        \"\"\" Gibt Gruppen aus. \"\"\"\n",
    "        presence_today = self.presence_list[:]\n",
    "        shuffle(presence_today)\n",
    "        group_list = [-1] * amount\n",
    "        idx = 0\n",
    "        for student in presence_today:\n",
    "            if group_list[idx] == -1:\n",
    "                group_list[idx] = []\n",
    "            group_list[idx].append(student)\n",
    "            if idx < amount - 1:\n",
    "                idx += 1\n",
    "            else:\n",
    "                idx = 0\n",
    "        return group_list"
   ]
  },
  {
   "cell_type": "markdown",
   "metadata": {},
   "source": [
    "### 3. Klasse aufbauen und Funktionen anwenden"
   ]
  },
  {
   "cell_type": "code",
   "execution_count": 3,
   "metadata": {},
   "outputs": [],
   "source": [
    "# Als erstes kreiere ich innerhalb der Classroom-Klasse eine Instanz: \"Data Science\".\n",
    "# Eine weitere Instanz könnten z.B. die Web-Entwickler sein.\n",
    "\n",
    "datascience = Classroom(\"Datascience\")"
   ]
  },
  {
   "cell_type": "code",
   "execution_count": 4,
   "metadata": {},
   "outputs": [],
   "source": [
    "# Dann füge ich alle Schüler des Bootcamps \"Data Science\" hinzu:\n",
    "\n",
    "datascience.add_class_member(\"Britta\")\n",
    "datascience.add_class_member(\"Sarah\")\n",
    "datascience.add_class_member(\"Katie\")\n",
    "datascience.add_class_member(\"Nathalie\")\n",
    "datascience.add_class_member(\"Andreas\")\n",
    "datascience.add_class_member(\"Johanna\")\n",
    "datascience.add_class_member(\"Mariano\")\n",
    "datascience.add_class_member(\"Dima\")\n",
    "datascience.add_class_member(\"Katharina\")\n",
    "datascience.add_class_member(\"Thomas\")\n",
    "datascience.add_class_member(\"Fabrice\")\n",
    "datascience.add_class_member(\"Sophie\")"
   ]
  },
  {
   "cell_type": "code",
   "execution_count": 6,
   "metadata": {},
   "outputs": [
    {
     "name": "stdout",
     "output_type": "stream",
     "text": [
      "{'Britta', 'Sophie', 'Katharina', 'Nathalie', 'Fabrice', 'Johanna', 'Katie', 'Andreas', 'Mariano', 'Thomas', 'Dima', 'Sarah'}\n"
     ]
    }
   ],
   "source": [
    "# Die Klassenliste kann ich mir nun vollständig ausgeben lassen:\n",
    "\n",
    "list = datascience.get_class_list()\n",
    "list"
   ]
  },
  {
   "cell_type": "code",
   "execution_count": 53,
   "metadata": {
    "scrolled": true
   },
   "outputs": [],
   "source": [
    "# Jetzt gebe ich für den heutigen Tag alle anwesenden Schüler ein:\n",
    "\n",
    "datascience.add_presence(\"Britta\", anwesend=1)\n",
    "datascience.add_presence(\"Sarah\", anwesend=1)\n",
    "datascience.add_presence(\"Katie\", anwesend=1)\n",
    "datascience.add_presence(\"Nathalie\", anwesend=1)\n",
    "datascience.add_presence(\"Andreas\", anwesend=1)\n",
    "datascience.add_presence(\"Johanna\", anwesend=1)\n",
    "datascience.add_presence(\"Mariano\", anwesend=1)\n",
    "datascience.add_presence(\"Dima\", anwesend=1)\n",
    "datascience.add_presence(\"Katharina\", anwesend=1)\n",
    "datascience.add_presence(\"Thomas\", anwesend=1)\n",
    "datascience.add_presence(\"Fabrice\", anwesend=1)\n",
    "datascience.add_presence(\"Sophie\", anwesend=1)"
   ]
  },
  {
   "cell_type": "code",
   "execution_count": 54,
   "metadata": {
    "scrolled": true
   },
   "outputs": [
    {
     "name": "stdout",
     "output_type": "stream",
     "text": [
      "['Britta', 'Sarah', 'Katie', 'Nathalie', 'Andreas', 'Johanna', 'Mariano', 'Dima', 'Katharina', 'Thomas', 'Fabrice', 'Sophie']\n"
     ]
    }
   ],
   "source": [
    "# ... und lasse mir die Anwesenheitsliste ausgeben:\n",
    "\n",
    "datascience.get_presence()"
   ]
  },
  {
   "cell_type": "code",
   "execution_count": 55,
   "metadata": {
    "scrolled": true
   },
   "outputs": [
    {
     "name": "stdout",
     "output_type": "stream",
     "text": [
      "['Katharina', 'Nathalie', 'Fabrice', 'Dima', 'Thomas', 'Britta', 'Johanna', 'Andreas', 'Katie', 'Mariano', 'Sarah', 'Sophie']\n"
     ]
    }
   ],
   "source": [
    "# Wie könnte das Seating denn heute aussehen?\n",
    "\n",
    "datascience.seating()"
   ]
  },
  {
   "cell_type": "code",
   "execution_count": 56,
   "metadata": {},
   "outputs": [
    {
     "name": "stdout",
     "output_type": "stream",
     "text": [
      "['Fabrice', 'Katharina', 'Nathalie', 'Britta', 'Sarah', 'Mariano', 'Dima', 'Thomas', 'Katie', 'Sophie', 'Andreas', 'Johanna']\n"
     ]
    }
   ],
   "source": [
    "# Und wie noch?\n",
    "\n",
    "datascience.seating()"
   ]
  },
  {
   "cell_type": "code",
   "execution_count": 59,
   "metadata": {
    "scrolled": true
   },
   "outputs": [
    {
     "data": {
      "text/plain": [
       "[['Johanna', 'Katharina', 'Katie', 'Nathalie'],\n",
       " ['Britta', 'Andreas', 'Fabrice', 'Mariano'],\n",
       " ['Sophie', 'Dima', 'Sarah', 'Thomas']]"
      ]
     },
     "execution_count": 59,
     "metadata": {},
     "output_type": "execute_result"
    }
   ],
   "source": [
    "datascience.groups(3)"
   ]
  },
  {
   "cell_type": "code",
   "execution_count": null,
   "metadata": {},
   "outputs": [],
   "source": []
  }
 ],
 "metadata": {
  "kernelspec": {
   "display_name": "Python 3",
   "language": "python",
   "name": "python3"
  },
  "language_info": {
   "codemirror_mode": {
    "name": "ipython",
    "version": 3
   },
   "file_extension": ".py",
   "mimetype": "text/x-python",
   "name": "python",
   "nbconvert_exporter": "python",
   "pygments_lexer": "ipython3",
   "version": "3.6.5"
  }
 },
 "nbformat": 4,
 "nbformat_minor": 2
}
