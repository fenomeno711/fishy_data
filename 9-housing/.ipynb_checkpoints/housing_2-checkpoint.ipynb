{
 "cells": [
  {
   "cell_type": "code",
   "execution_count": 68,
   "metadata": {},
   "outputs": [],
   "source": [
    "import numpy as np\n",
    "import pandas as pd\n",
    "import scipy, scipy.stats\n",
    "import matplotlib.pyplot as plt\n",
    "import sklearn as skl\n",
    "from sklearn.neighbors import KNeighborsRegressor\n",
    "from sklearn.model_selection import train_test_split\n",
    "import sklearn.preprocessing as pre"
   ]
  },
  {
   "cell_type": "code",
   "execution_count": 69,
   "metadata": {},
   "outputs": [
    {
     "name": "stdout",
     "output_type": "stream",
     "text": [
      "14703\n",
      "3676\n",
      "14703\n",
      "0 Datensätze aus Train entfernt.\n",
      "3676\n",
      "0 Datensätze aus Test entfernt.\n"
     ]
    }
   ],
   "source": [
    "data_test = pd.read_csv(\"data_test.csv\") \n",
    "data_train = pd.read_csv('data_train.csv')\n",
    "\n",
    "data_train_original = pd.DataFrame(data_train)\n",
    "data_test_original = pd.DataFrame(data_test)\n",
    "\n",
    "print(len(data_train_original))\n",
    "print(len(data_test_original))\n",
    "\n",
    "#Eliminieren der NaN-Datensätze:\n",
    "data_train_cleaned = data_train_original.dropna(axis=0, how='any')\n",
    "data_test_cleaned = data_test_original.dropna(axis=0, how='any')\n",
    "\n",
    "print(len(data_train_cleaned))\n",
    "n_dropped = len(data_train_original)-len(data_train_cleaned)\n",
    "print(n_dropped ,'Datensätze aus Train entfernt.')\n",
    "\n",
    "print(len(data_test_cleaned))\n",
    "n_dropped = len(data_test_original)-len(data_test_cleaned)\n",
    "print(n_dropped ,'Datensätze aus Test entfernt.')"
   ]
  },
  {
   "cell_type": "markdown",
   "metadata": {},
   "source": [
    "Die Daten sind also schon vorher von fehlenden Werten bereinigt worden. Später will ich die entsprechenden Daten gegen andere Aufbereitungen der Daten testen, deswegen erzeuge ich noch weitere DataFrames."
   ]
  },
  {
   "cell_type": "code",
   "execution_count": 70,
   "metadata": {},
   "outputs": [
    {
     "name": "stdout",
     "output_type": "stream",
     "text": [
      "   longitude  latitude  housing_median_age  total_rooms  total_bedrooms  \\\n",
      "0    -118.29     34.04                48.0       1353.0           488.0   \n",
      "1    -122.05     37.36                29.0       1733.0           255.0   \n",
      "2    -118.42     34.19                33.0       3353.0           790.0   \n",
      "3    -122.22     37.79                44.0       1487.0           314.0   \n",
      "4    -116.95     32.81                31.0       1277.0           293.0   \n",
      "\n",
      "   population  households  median_income  median_house_value  NEAR BAY  \\\n",
      "0      1945.0       487.0         2.4359            123700.0       0.0   \n",
      "1       679.0       278.0         7.5337            406800.0       0.0   \n",
      "2      2318.0       775.0         2.2589            269700.0       0.0   \n",
      "3       961.0       272.0         3.5156            109500.0       1.0   \n",
      "4       698.0       237.0         3.1106            147700.0       0.0   \n",
      "\n",
      "   <1H OCEAN  INLAND  NEAR OCEAN  ISLAND  \n",
      "0        1.0     0.0         0.0     0.0  \n",
      "1        1.0     0.0         0.0     0.0  \n",
      "2        1.0     0.0         0.0     0.0  \n",
      "3        0.0     0.0         0.0     0.0  \n",
      "4        1.0     0.0         0.0     0.0  \n",
      "14703\n"
     ]
    }
   ],
   "source": [
    "data_tr = data_train_cleaned\n",
    "data_te = data_test_cleaned\n",
    "print(data_tr.head())\n",
    "print(len(data_tr))"
   ]
  },
  {
   "cell_type": "code",
   "execution_count": 71,
   "metadata": {},
   "outputs": [
    {
     "name": "stdout",
     "output_type": "stream",
     "text": [
      "   longitude  latitude  housing_median_age  total_rooms  total_bedrooms  \\\n",
      "0    -123.18     40.58                18.0       1451.0           278.0   \n",
      "1    -117.08     33.01                 5.0       5659.0           931.0   \n",
      "2    -118.09     33.99                34.0       1369.0           270.0   \n",
      "3    -118.30     34.10                25.0       3926.0          1715.0   \n",
      "4    -123.58     39.66                15.0       1839.0           489.0   \n",
      "\n",
      "   population  households  median_income  median_house_value  NEAR BAY  \\\n",
      "0       695.0       254.0         1.7262             73700.0       0.0   \n",
      "1      2565.0       902.0         6.1949            238700.0       0.0   \n",
      "2      1005.0       272.0         3.6920            172600.0       0.0   \n",
      "3      4865.0      1612.0         1.6112            262500.0       0.0   \n",
      "4       887.0       332.0         2.2429            100000.0       0.0   \n",
      "\n",
      "   <1H OCEAN  INLAND  NEAR OCEAN  ISLAND  \n",
      "0        0.0     1.0         0.0     0.0  \n",
      "1        1.0     0.0         0.0     0.0  \n",
      "2        1.0     0.0         0.0     0.0  \n",
      "3        1.0     0.0         0.0     0.0  \n",
      "4        1.0     0.0         0.0     0.0  \n",
      "3676\n"
     ]
    }
   ],
   "source": [
    "print(data_te.head())\n",
    "print(len(data_te))"
   ]
  },
  {
   "cell_type": "code",
   "execution_count": 72,
   "metadata": {},
   "outputs": [
    {
     "data": {
      "image/png": "[encoded data removed]",
      "text/plain": [
       "<Figure size 1440x576 with 16 Axes>"
      ]
     },
     "metadata": {},
     "output_type": "display_data"
    }
   ],
   "source": [
    "data_tr.hist(bins=50, density=True, figsize=(20,8));"
   ]
  },
  {
   "cell_type": "code",
   "execution_count": 73,
   "metadata": {},
   "outputs": [
    {
     "data": {
      "image/png": "[encoded data removed]",
      "text/plain": [
       "<Figure size 1440x576 with 16 Axes>"
      ]
     },
     "metadata": {},
     "output_type": "display_data"
    }
   ],
   "source": [
    "data_te.hist(bins=50, density=True, figsize=(20,8));"
   ]
  },
  {
   "cell_type": "code",
   "execution_count": 74,
   "metadata": {},
   "outputs": [
    {
     "name": "stdout",
     "output_type": "stream",
     "text": [
      "14703\n"
     ]
    },
    {
     "data": {
      "text/html": [
       "<div>\n",
       "<style scoped>\n",
       "    .dataframe tbody tr th:only-of-type {\n",
       "        vertical-align: middle;\n",
       "    }\n",
       "\n",
       "    .dataframe tbody tr th {\n",
       "        vertical-align: top;\n",
       "    }\n",
       "\n",
       "    .dataframe thead th {\n",
       "        text-align: right;\n",
       "    }\n",
       "</style>\n",
       "<table border=\"1\" class=\"dataframe\">\n",
       "  <thead>\n",
       "    <tr style=\"text-align: right;\">\n",
       "      <th></th>\n",
       "      <th>longitude</th>\n",
       "      <th>latitude</th>\n",
       "      <th>housing_median_age</th>\n",
       "      <th>total_rooms</th>\n",
       "      <th>total_bedrooms</th>\n",
       "      <th>population</th>\n",
       "      <th>households</th>\n",
       "      <th>median_income</th>\n",
       "      <th>median_house_value</th>\n",
       "      <th>NEAR BAY</th>\n",
       "      <th>&lt;1H OCEAN</th>\n",
       "      <th>INLAND</th>\n",
       "      <th>NEAR OCEAN</th>\n",
       "      <th>ISLAND</th>\n",
       "    </tr>\n",
       "  </thead>\n",
       "  <tbody>\n",
       "    <tr>\n",
       "      <th>0</th>\n",
       "      <td>0.603022</td>\n",
       "      <td>-0.721966</td>\n",
       "      <td>1.837914</td>\n",
       "      <td>-0.592086</td>\n",
       "      <td>-0.138165</td>\n",
       "      <td>0.420896</td>\n",
       "      <td>-0.052873</td>\n",
       "      <td>-0.797048</td>\n",
       "      <td>-0.682662</td>\n",
       "      <td>-0.305487</td>\n",
       "      <td>1.10742</td>\n",
       "      <td>-0.719479</td>\n",
       "      <td>-0.376803</td>\n",
       "      <td>-0.008247</td>\n",
       "    </tr>\n",
       "    <tr>\n",
       "      <th>1</th>\n",
       "      <td>-1.297583</td>\n",
       "      <td>0.823924</td>\n",
       "      <td>0.173654</td>\n",
       "      <td>-0.420557</td>\n",
       "      <td>-0.684898</td>\n",
       "      <td>-0.695249</td>\n",
       "      <td>-0.592997</td>\n",
       "      <td>2.449411</td>\n",
       "      <td>2.283431</td>\n",
       "      <td>-0.305487</td>\n",
       "      <td>1.10742</td>\n",
       "      <td>-0.719479</td>\n",
       "      <td>-0.376803</td>\n",
       "      <td>-0.008247</td>\n",
       "    </tr>\n",
       "    <tr>\n",
       "      <th>2</th>\n",
       "      <td>0.537310</td>\n",
       "      <td>-0.652122</td>\n",
       "      <td>0.524025</td>\n",
       "      <td>0.310696</td>\n",
       "      <td>0.570476</td>\n",
       "      <td>0.749745</td>\n",
       "      <td>0.691412</td>\n",
       "      <td>-0.909767</td>\n",
       "      <td>0.847008</td>\n",
       "      <td>-0.305487</td>\n",
       "      <td>1.10742</td>\n",
       "      <td>-0.719479</td>\n",
       "      <td>-0.376803</td>\n",
       "      <td>-0.008247</td>\n",
       "    </tr>\n",
       "    <tr>\n",
       "      <th>3</th>\n",
       "      <td>-1.383515</td>\n",
       "      <td>1.024145</td>\n",
       "      <td>1.487544</td>\n",
       "      <td>-0.531600</td>\n",
       "      <td>-0.546455</td>\n",
       "      <td>-0.446629</td>\n",
       "      <td>-0.608502</td>\n",
       "      <td>-0.109457</td>\n",
       "      <td>-0.831438</td>\n",
       "      <td>3.273460</td>\n",
       "      <td>-0.90300</td>\n",
       "      <td>-0.719479</td>\n",
       "      <td>-0.376803</td>\n",
       "      <td>-0.008247</td>\n",
       "    </tr>\n",
       "    <tr>\n",
       "      <th>4</th>\n",
       "      <td>1.280366</td>\n",
       "      <td>-1.294691</td>\n",
       "      <td>0.348839</td>\n",
       "      <td>-0.626392</td>\n",
       "      <td>-0.595732</td>\n",
       "      <td>-0.678498</td>\n",
       "      <td>-0.698954</td>\n",
       "      <td>-0.367375</td>\n",
       "      <td>-0.431209</td>\n",
       "      <td>-0.305487</td>\n",
       "      <td>1.10742</td>\n",
       "      <td>-0.719479</td>\n",
       "      <td>-0.376803</td>\n",
       "      <td>-0.008247</td>\n",
       "    </tr>\n",
       "  </tbody>\n",
       "</table>\n",
       "</div>"
      ],
      "text/plain": [
       "   longitude  latitude  housing_median_age  total_rooms  total_bedrooms  \\\n",
       "0   0.603022 -0.721966            1.837914    -0.592086       -0.138165   \n",
       "1  -1.297583  0.823924            0.173654    -0.420557       -0.684898   \n",
       "2   0.537310 -0.652122            0.524025     0.310696        0.570476   \n",
       "3  -1.383515  1.024145            1.487544    -0.531600       -0.546455   \n",
       "4   1.280366 -1.294691            0.348839    -0.626392       -0.595732   \n",
       "\n",
       "   population  households  median_income  median_house_value  NEAR BAY  \\\n",
       "0    0.420896   -0.052873      -0.797048           -0.682662 -0.305487   \n",
       "1   -0.695249   -0.592997       2.449411            2.283431 -0.305487   \n",
       "2    0.749745    0.691412      -0.909767            0.847008 -0.305487   \n",
       "3   -0.446629   -0.608502      -0.109457           -0.831438  3.273460   \n",
       "4   -0.678498   -0.698954      -0.367375           -0.431209 -0.305487   \n",
       "\n",
       "   <1H OCEAN    INLAND  NEAR OCEAN    ISLAND  \n",
       "0    1.10742 -0.719479   -0.376803 -0.008247  \n",
       "1    1.10742 -0.719479   -0.376803 -0.008247  \n",
       "2    1.10742 -0.719479   -0.376803 -0.008247  \n",
       "3   -0.90300 -0.719479   -0.376803 -0.008247  \n",
       "4    1.10742 -0.719479   -0.376803 -0.008247  "
      ]
     },
     "execution_count": 74,
     "metadata": {},
     "output_type": "execute_result"
    }
   ],
   "source": [
    "import sklearn.preprocessing as pre\n",
    "scaler = pre.StandardScaler(copy=True, with_mean=True, with_std=True)\n",
    "data_tr_scaled = scaler.fit_transform(data_tr)\n",
    "data_tr_scaled = pd.DataFrame(data_tr_scaled, columns = data_train.columns)\n",
    "print(len(data_tr_scaled))\n",
    "data_tr_scaled.head()"
   ]
  },
  {
   "cell_type": "code",
   "execution_count": 75,
   "metadata": {},
   "outputs": [
    {
     "name": "stdout",
     "output_type": "stream",
     "text": [
      "3676\n"
     ]
    },
    {
     "data": {
      "text/html": [
       "<div>\n",
       "<style scoped>\n",
       "    .dataframe tbody tr th:only-of-type {\n",
       "        vertical-align: middle;\n",
       "    }\n",
       "\n",
       "    .dataframe tbody tr th {\n",
       "        vertical-align: top;\n",
       "    }\n",
       "\n",
       "    .dataframe thead th {\n",
       "        text-align: right;\n",
       "    }\n",
       "</style>\n",
       "<table border=\"1\" class=\"dataframe\">\n",
       "  <thead>\n",
       "    <tr style=\"text-align: right;\">\n",
       "      <th></th>\n",
       "      <th>longitude</th>\n",
       "      <th>latitude</th>\n",
       "      <th>housing_median_age</th>\n",
       "      <th>total_rooms</th>\n",
       "      <th>total_bedrooms</th>\n",
       "      <th>population</th>\n",
       "      <th>households</th>\n",
       "      <th>median_income</th>\n",
       "      <th>median_house_value</th>\n",
       "      <th>NEAR BAY</th>\n",
       "      <th>&lt;1H OCEAN</th>\n",
       "      <th>INLAND</th>\n",
       "      <th>NEAR OCEAN</th>\n",
       "      <th>ISLAND</th>\n",
       "    </tr>\n",
       "  </thead>\n",
       "  <tbody>\n",
       "    <tr>\n",
       "      <th>0</th>\n",
       "      <td>-1.852839</td>\n",
       "      <td>2.313114</td>\n",
       "      <td>-0.763537</td>\n",
       "      <td>-0.543921</td>\n",
       "      <td>-0.620802</td>\n",
       "      <td>-0.614851</td>\n",
       "      <td>-0.648554</td>\n",
       "      <td>-1.271581</td>\n",
       "      <td>-1.224088</td>\n",
       "      <td>-0.29484</td>\n",
       "      <td>-0.893059</td>\n",
       "      <td>1.372274</td>\n",
       "      <td>-0.385216</td>\n",
       "      <td>-0.016496</td>\n",
       "    </tr>\n",
       "    <tr>\n",
       "      <th>1</th>\n",
       "      <td>1.212522</td>\n",
       "      <td>-1.208023</td>\n",
       "      <td>-1.894419</td>\n",
       "      <td>1.304553</td>\n",
       "      <td>0.856043</td>\n",
       "      <td>0.851548</td>\n",
       "      <td>0.972651</td>\n",
       "      <td>1.580434</td>\n",
       "      <td>0.477618</td>\n",
       "      <td>-0.29484</td>\n",
       "      <td>1.119746</td>\n",
       "      <td>-0.728717</td>\n",
       "      <td>-0.385216</td>\n",
       "      <td>-0.016496</td>\n",
       "    </tr>\n",
       "    <tr>\n",
       "      <th>2</th>\n",
       "      <td>0.704979</td>\n",
       "      <td>-0.752183</td>\n",
       "      <td>0.628318</td>\n",
       "      <td>-0.579942</td>\n",
       "      <td>-0.638895</td>\n",
       "      <td>-0.371758</td>\n",
       "      <td>-0.603521</td>\n",
       "      <td>-0.016968</td>\n",
       "      <td>-0.204096</td>\n",
       "      <td>-0.29484</td>\n",
       "      <td>1.119746</td>\n",
       "      <td>-0.728717</td>\n",
       "      <td>-0.385216</td>\n",
       "      <td>-0.016496</td>\n",
       "    </tr>\n",
       "    <tr>\n",
       "      <th>3</th>\n",
       "      <td>0.599450</td>\n",
       "      <td>-0.701017</td>\n",
       "      <td>-0.154601</td>\n",
       "      <td>0.543288</td>\n",
       "      <td>2.629162</td>\n",
       "      <td>2.655141</td>\n",
       "      <td>2.748973</td>\n",
       "      <td>-1.344976</td>\n",
       "      <td>0.723076</td>\n",
       "      <td>-0.29484</td>\n",
       "      <td>1.119746</td>\n",
       "      <td>-0.728717</td>\n",
       "      <td>-0.385216</td>\n",
       "      <td>-0.016496</td>\n",
       "    </tr>\n",
       "    <tr>\n",
       "      <th>4</th>\n",
       "      <td>-2.053846</td>\n",
       "      <td>1.885182</td>\n",
       "      <td>-1.024510</td>\n",
       "      <td>-0.373482</td>\n",
       "      <td>-0.143598</td>\n",
       "      <td>-0.464290</td>\n",
       "      <td>-0.453409</td>\n",
       "      <td>-0.941812</td>\n",
       "      <td>-0.952846</td>\n",
       "      <td>-0.29484</td>\n",
       "      <td>1.119746</td>\n",
       "      <td>-0.728717</td>\n",
       "      <td>-0.385216</td>\n",
       "      <td>-0.016496</td>\n",
       "    </tr>\n",
       "  </tbody>\n",
       "</table>\n",
       "</div>"
      ],
      "text/plain": [
       "   longitude  latitude  housing_median_age  total_rooms  total_bedrooms  \\\n",
       "0  -1.852839  2.313114           -0.763537    -0.543921       -0.620802   \n",
       "1   1.212522 -1.208023           -1.894419     1.304553        0.856043   \n",
       "2   0.704979 -0.752183            0.628318    -0.579942       -0.638895   \n",
       "3   0.599450 -0.701017           -0.154601     0.543288        2.629162   \n",
       "4  -2.053846  1.885182           -1.024510    -0.373482       -0.143598   \n",
       "\n",
       "   population  households  median_income  median_house_value  NEAR BAY  \\\n",
       "0   -0.614851   -0.648554      -1.271581           -1.224088  -0.29484   \n",
       "1    0.851548    0.972651       1.580434            0.477618  -0.29484   \n",
       "2   -0.371758   -0.603521      -0.016968           -0.204096  -0.29484   \n",
       "3    2.655141    2.748973      -1.344976            0.723076  -0.29484   \n",
       "4   -0.464290   -0.453409      -0.941812           -0.952846  -0.29484   \n",
       "\n",
       "   <1H OCEAN    INLAND  NEAR OCEAN    ISLAND  \n",
       "0  -0.893059  1.372274   -0.385216 -0.016496  \n",
       "1   1.119746 -0.728717   -0.385216 -0.016496  \n",
       "2   1.119746 -0.728717   -0.385216 -0.016496  \n",
       "3   1.119746 -0.728717   -0.385216 -0.016496  \n",
       "4   1.119746 -0.728717   -0.385216 -0.016496  "
      ]
     },
     "execution_count": 75,
     "metadata": {},
     "output_type": "execute_result"
    }
   ],
   "source": [
    "data_te_scaled = scaler.fit_transform(data_te)\n",
    "data_te_scaled = pd.DataFrame(data_te_scaled, columns = data_test.columns)\n",
    "print(len(data_te_scaled))\n",
    "data_te_scaled.head()\n"
   ]
  },
  {
   "cell_type": "code",
   "execution_count": 76,
   "metadata": {},
   "outputs": [
    {
     "name": "stdout",
     "output_type": "stream",
     "text": [
      "Anpassung an Trainingsdaten:\n",
      "Bestimmtheitsmaß:  0.6243706488985613\n",
      "MSE:  3421920031.0\n"
     ]
    }
   ],
   "source": [
    "#Train\n",
    "from sklearn import linear_model as lm # Importieren der Klasse\n",
    "lr = lm.LinearRegression()# instanziieren der Klasse\n",
    "y = data_tr.loc[:,'median_house_value']\n",
    "X = data_tr_scaled.drop('median_house_value',axis=1)\n",
    "lr.fit(X, y)\n",
    "#Predict für Traindaten:\n",
    "print('Anpassung an Trainingsdaten:')\n",
    "print('Bestimmtheitsmaß: ',lr.score(X,y))\n",
    "y_predicted = lr.predict(X)\n",
    "MSE_tr = ((sum((y_predicted - y)**2))/len(y))\n",
    "print('MSE: ',round(MSE_tr,0))"
   ]
  },
  {
   "cell_type": "code",
   "execution_count": 77,
   "metadata": {},
   "outputs": [
    {
     "name": "stdout",
     "output_type": "stream",
     "text": [
      "Anpassung an Testdaten:\n",
      "Bestimmtheitsmaß:  0.6139254842422467\n",
      "MSE:  3629696749.0\n"
     ]
    }
   ],
   "source": [
    "y_te = data_te.loc[:,'median_house_value']\n",
    "X_te = data_te_scaled.drop('median_house_value',axis=1)\n",
    "#Predict für Testdaten\n",
    "print('Anpassung an Testdaten:')\n",
    "print('Bestimmtheitsmaß: ',lr.score(X_te,y_te))\n",
    "y_te_predicted = lr.predict(X_te)\n",
    "MSE_lr = ((sum((y_te_predicted - y_te)**2))/len(y_te))\n",
    "print('MSE: ',round(MSE_lr,0))"
   ]
  },
  {
   "cell_type": "markdown",
   "metadata": {},
   "source": [
    "## Plot Testdaten:"
   ]
  },
  {
   "cell_type": "code",
   "execution_count": 78,
   "metadata": {},
   "outputs": [
    {
     "data": {
      "image/png": "[encoded data removed]",
      "text/plain": [
       "<Figure size 504x720 with 1 Axes>"
      ]
     },
     "metadata": {},
     "output_type": "display_data"
    }
   ],
   "source": [
    "predictions = pd.DataFrame()\n",
    "predictions['true_median_house_value'] = y_te\n",
    "predictions['prediction'] = y_te_predicted\n",
    "predictions.sort_values(by ='true_median_house_value', axis = 0, ascending=True, inplace=True)\n",
    "plt.figure(figsize=(7,10))\n",
    "plt.plot(predictions['true_median_house_value'],predictions['prediction']);\n"
   ]
  },
  {
   "cell_type": "code",
   "execution_count": 79,
   "metadata": {},
   "outputs": [
    {
     "data": {
      "text/html": [
       "<div>\n",
       "<style scoped>\n",
       "    .dataframe tbody tr th:only-of-type {\n",
       "        vertical-align: middle;\n",
       "    }\n",
       "\n",
       "    .dataframe tbody tr th {\n",
       "        vertical-align: top;\n",
       "    }\n",
       "\n",
       "    .dataframe thead th {\n",
       "        text-align: right;\n",
       "    }\n",
       "</style>\n",
       "<table border=\"1\" class=\"dataframe\">\n",
       "  <thead>\n",
       "    <tr style=\"text-align: right;\">\n",
       "      <th></th>\n",
       "      <th>labels</th>\n",
       "      <th>Coeffs</th>\n",
       "    </tr>\n",
       "  </thead>\n",
       "  <tbody>\n",
       "    <tr>\n",
       "      <th>0</th>\n",
       "      <td>longitude</td>\n",
       "      <td>-45729.0</td>\n",
       "    </tr>\n",
       "    <tr>\n",
       "      <th>1</th>\n",
       "      <td>latitude</td>\n",
       "      <td>-45391.0</td>\n",
       "    </tr>\n",
       "    <tr>\n",
       "      <th>2</th>\n",
       "      <td>housing_median_age</td>\n",
       "      <td>7553.0</td>\n",
       "    </tr>\n",
       "    <tr>\n",
       "      <th>3</th>\n",
       "      <td>total_rooms</td>\n",
       "      <td>-15000.0</td>\n",
       "    </tr>\n",
       "    <tr>\n",
       "      <th>4</th>\n",
       "      <td>total_bedrooms</td>\n",
       "      <td>35202.0</td>\n",
       "    </tr>\n",
       "    <tr>\n",
       "      <th>5</th>\n",
       "      <td>population</td>\n",
       "      <td>-36732.0</td>\n",
       "    </tr>\n",
       "    <tr>\n",
       "      <th>6</th>\n",
       "      <td>households</td>\n",
       "      <td>20744.0</td>\n",
       "    </tr>\n",
       "    <tr>\n",
       "      <th>7</th>\n",
       "      <td>median_income</td>\n",
       "      <td>59981.0</td>\n",
       "    </tr>\n",
       "    <tr>\n",
       "      <th>8</th>\n",
       "      <td>NEAR BAY</td>\n",
       "      <td>-598.0</td>\n",
       "    </tr>\n",
       "    <tr>\n",
       "      <th>9</th>\n",
       "      <td>&lt;1H OCEAN</td>\n",
       "      <td>7392.0</td>\n",
       "    </tr>\n",
       "    <tr>\n",
       "      <th>10</th>\n",
       "      <td>INLAND</td>\n",
       "      <td>-12015.0</td>\n",
       "    </tr>\n",
       "    <tr>\n",
       "      <th>11</th>\n",
       "      <td>NEAR OCEAN</td>\n",
       "      <td>6603.0</td>\n",
       "    </tr>\n",
       "    <tr>\n",
       "      <th>12</th>\n",
       "      <td>ISLAND</td>\n",
       "      <td>948.0</td>\n",
       "    </tr>\n",
       "  </tbody>\n",
       "</table>\n",
       "</div>"
      ],
      "text/plain": [
       "                labels   Coeffs\n",
       "0            longitude -45729.0\n",
       "1             latitude -45391.0\n",
       "2   housing_median_age   7553.0\n",
       "3          total_rooms -15000.0\n",
       "4       total_bedrooms  35202.0\n",
       "5           population -36732.0\n",
       "6           households  20744.0\n",
       "7        median_income  59981.0\n",
       "8             NEAR BAY   -598.0\n",
       "9            <1H OCEAN   7392.0\n",
       "10              INLAND -12015.0\n",
       "11          NEAR OCEAN   6603.0\n",
       "12              ISLAND    948.0"
      ]
     },
     "execution_count": 79,
     "metadata": {},
     "output_type": "execute_result"
    }
   ],
   "source": [
    "parameter_weights = pd.DataFrame()\n",
    "parameter_weights['labels'] = X_te.columns\n",
    "parameter_weights['Coeffs'] = list(map(lambda x: x.round(0), lr.coef_))\n",
    "\n",
    "parameter_weights"
   ]
  },
  {
   "cell_type": "code",
   "execution_count": 82,
   "metadata": {
    "scrolled": true
   },
   "outputs": [
    {
     "data": {
      "text/plain": [
       "<matplotlib.collections.PathCollection at 0x1a16467908>"
      ]
     },
     "execution_count": 82,
     "metadata": {},
     "output_type": "execute_result"
    },
    {
     "data": {
      "image/png": "[encoded data removed]",
      "text/plain": [
       "<Figure size 432x288 with 1 Axes>"
      ]
     },
     "metadata": {},
     "output_type": "display_data"
    }
   ],
   "source": [
    "predictions['Abweichung in %'] = predictions.loc[:, 'prediction'] / predictions.loc[:, 'true_median_house_value']*100\n",
    "plt.scatter(predictions.loc[:,'true_median_house_value'],predictions.loc[:,'Abweichung in %'])"
   ]
  },
  {
   "cell_type": "markdown",
   "metadata": {},
   "source": [
    "## Verfahren : K-neighbors"
   ]
  },
  {
   "cell_type": "code",
   "execution_count": 86,
   "metadata": {},
   "outputs": [],
   "source": [
    "from sklearn.neighbors import KNeighborsRegressor"
   ]
  },
  {
   "cell_type": "code",
   "execution_count": 84,
   "metadata": {},
   "outputs": [
    {
     "name": "stdout",
     "output_type": "stream",
     "text": [
      "MeanSquasredError: 1087861730.5550227\n",
      "Bestimmtheitsmaß:  0.8805837681151157\n",
      "MeanSquasredError: 1489498176.6125445\n",
      "Bestimmtheitsmaß:  0.8364955263572631\n",
      "MeanSquasredError: 1738452396.6555338\n",
      "Bestimmtheitsmaß:  0.8091674440887506\n",
      "MeanSquasredError: 1883972651.1102087\n",
      "Bestimmtheitsmaß:  0.7931934650785313\n",
      "MeanSquasredError: 2000967756.7877557\n",
      "Bestimmtheitsmaß:  0.780350734907429\n"
     ]
    }
   ],
   "source": [
    "for i in range(2,7):\n",
    "    neigh = KNeighborsRegressor(n_neighbors=i, algorithm='brute', weights='uniform' )\n",
    "    neigh.fit(X, y)\n",
    "    y_predicted = neigh.predict(X)\n",
    "    MSE_KNR = (sum((y_predicted - y)**2))/len(y)\n",
    "    print('MeanSquasredError:', MSE_KNR)\n",
    "    y_quer = y.mean()\n",
    "    R_quadrat = 1 - sum((y_predicted - y)**2) / sum((y-y_quer)**2)\n",
    "    print('Bestimmtheitsmaß: ', R_quadrat)                                     "
   ]
  },
  {
   "cell_type": "markdown",
   "metadata": {},
   "source": [
    "## für die Testdaten"
   ]
  },
  {
   "cell_type": "code",
   "execution_count": 85,
   "metadata": {},
   "outputs": [
    {
     "name": "stdout",
     "output_type": "stream",
     "text": [
      "MeanSquasredError: 3718319432.181991\n",
      "Bestimmtheitsmaß:  0.6044990880779887\n",
      "MeanSquasredError: 3395462898.210904\n",
      "Bestimmtheitsmaß:  0.6388398852941691\n",
      "MeanSquasredError: 3285278671.946681\n",
      "Bestimmtheitsmaß:  0.6505596858012893\n",
      "MeanSquasredError: 3179542899.641186\n",
      "Bestimmtheitsmaß:  0.6618063242712557\n",
      "MeanSquasredError: 3145003092.404466\n",
      "Bestimmtheitsmaß:  0.6654801681969554\n",
      "MeanSquasredError: 3091776593.9022493\n",
      "Bestimmtheitsmaß:  0.6711416314144093\n",
      "MeanSquasredError: 3069725104.181107\n",
      "Bestimmtheitsmaß:  0.6734871491820511\n",
      "MeanSquasredError: 3061210838.052236\n",
      "Bestimmtheitsmaß:  0.6743927733705408\n",
      "MeanSquasredError: 3037742045.304951\n",
      "Bestimmtheitsmaß:  0.6768890432856334\n",
      "MeanSquasredError: 3026600784.502381\n",
      "Bestimmtheitsmaß:  0.6780740890805805\n",
      "MeanSquasredError: 3015548972.104616\n",
      "Bestimmtheitsmaß:  0.6792496206510733\n",
      "MeanSquasredError: 3003170364.2127213\n",
      "Bestimmtheitsmaß:  0.6805662774899659\n",
      "MeanSquasredError: 2997437507.498444\n",
      "Bestimmtheitsmaß:  0.6811760556706113\n",
      "MeanSquasredError: 3011636093.9296675\n",
      "Bestimmtheitsmaß:  0.6796658159012818\n",
      "MeanSquasredError: 3020336882.8348746\n",
      "Bestimmtheitsmaß:  0.6787403521241067\n",
      "MeanSquasredError: 3030050447.4868174\n",
      "Bestimmtheitsmaß:  0.6777071639465104\n",
      "MeanSquasredError: 3028353479.7239485\n",
      "Bestimmtheitsmaß:  0.6778876627739937\n",
      "MeanSquasredError: 3045224535.442871\n",
      "Bestimmtheitsmaß:  0.6760931644680734\n"
     ]
    }
   ],
   "source": [
    "for i in range(2,20):\n",
    "    neigh = KNeighborsRegressor(n_neighbors=i, algorithm='brute', weights='uniform' )\n",
    "    neigh.fit(X, y)\n",
    "    y_te_predicted = neigh.predict(X_te)\n",
    "    MSE_KNR = (sum((y_te_predicted - y_te)**2))/len(y_te)\n",
    "    print('MeanSquasredError:', MSE_KNR)\n",
    "    y_te_quer = y_te.mean()\n",
    "    R_te_quadrat = 1 - sum((y_te_predicted - y_te)**2) / sum((y_te-y_te_quer)**2)\n",
    "    print('Bestimmtheitsmaß: ', R_te_quadrat)    "
   ]
  },
  {
   "cell_type": "markdown",
   "metadata": {},
   "source": [
    "## Feature Engineering:"
   ]
  },
  {
   "cell_type": "code",
   "execution_count": null,
   "metadata": {},
   "outputs": [],
   "source": []
  },
  {
   "cell_type": "code",
   "execution_count": null,
   "metadata": {},
   "outputs": [],
   "source": []
  }
 ],
 "metadata": {
  "kernelspec": {
   "display_name": "Python 3",
   "language": "python",
   "name": "python3"
  },
  "language_info": {
   "codemirror_mode": {
    "name": "ipython",
    "version": 3
   },
   "file_extension": ".py",
   "mimetype": "text/x-python",
   "name": "python",
   "nbconvert_exporter": "python",
   "pygments_lexer": "ipython3",
   "version": "3.6.5"
  }
 },
 "nbformat": 4,
 "nbformat_minor": 2
}
