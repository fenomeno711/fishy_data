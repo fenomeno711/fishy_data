{
 "cells": [
  {
   "cell_type": "markdown",
   "metadata": {},
   "source": [
    "## Spaltennamen durchnummerieren"
   ]
  },
  {
   "cell_type": "code",
   "execution_count": 1,
   "metadata": {},
   "outputs": [],
   "source": [
    "import pandas as pd\n",
    "import numpy as np"
   ]
  },
  {
   "cell_type": "code",
   "execution_count": 3,
   "metadata": {},
   "outputs": [
    {
     "name": "stdout",
     "output_type": "stream",
     "text": [
      "{'Variablenname_0': 0, 'Variablenname_1': 2, 'Variablenname_2': 4, 'Variablenname_3': 6, 'Variablenname_4': 8, 'Variablenname_5': 10, 'Variablenname_6': 12, 'Variablenname_7': 14, 'Variablenname_8': 16, 'Variablenname_9': 18}\n",
      "<class 'dict'>\n"
     ]
    }
   ],
   "source": [
    "results ={}\n",
    "\n",
    "for i in range(0,10):\n",
    "    results[f'Variablenname_{i}'] = 2*i\n",
    "print(results)\n",
    "print(type(results))\n",
    "results_dict = results"
   ]
  },
  {
   "cell_type": "code",
   "execution_count": null,
   "metadata": {},
   "outputs": [],
   "source": [
    "results = pd.DataFrame()\n",
    "\n",
    "for i in range(1,10):\n",
    "    results[f'test_{i}'] = i\n",
    "    \n",
    "results"
   ]
  },
  {
   "cell_type": "code",
   "execution_count": null,
   "metadata": {},
   "outputs": [],
   "source": [
    "# Alternative dazu:\n",
    "results = pd.DataFrame()\n",
    "for i in range(0,10):\n",
    "    results['KNN' + str(i)] = i*10\n",
    "results\n"
   ]
  },
  {
   "cell_type": "markdown",
   "metadata": {},
   "source": [
    "## Dictionaries"
   ]
  },
  {
   "cell_type": "code",
   "execution_count": 4,
   "metadata": {},
   "outputs": [
    {
     "data": {
      "text/plain": [
       "dict"
      ]
     },
     "execution_count": 4,
     "metadata": {},
     "output_type": "execute_result"
    }
   ],
   "source": [
    "type(results_dict)"
   ]
  },
  {
   "cell_type": "code",
   "execution_count": 15,
   "metadata": {},
   "outputs": [
    {
     "name": "stdout",
     "output_type": "stream",
     "text": [
      "Variablenname_0\n",
      "0\n",
      "Variablenname_1\n",
      "2\n",
      "Variablenname_2\n",
      "4\n",
      "Variablenname_3\n",
      "6\n",
      "Variablenname_4\n",
      "8\n",
      "Variablenname_5\n",
      "10\n",
      "Variablenname_6\n",
      "12\n",
      "Variablenname_7\n",
      "14\n",
      "Variablenname_8\n",
      "16\n",
      "Variablenname_9\n",
      "18\n"
     ]
    }
   ],
   "source": [
    "for string in results_dict:\n",
    "    print(string)\n",
    "    print(results_dict[string])"
   ]
  },
  {
   "cell_type": "code",
   "execution_count": null,
   "metadata": {},
   "outputs": [],
   "source": []
  }
 ],
 "metadata": {
  "kernelspec": {
   "display_name": "Python 3",
   "language": "python",
   "name": "python3"
  },
  "language_info": {
   "codemirror_mode": {
    "name": "ipython",
    "version": 3
   },
   "file_extension": ".py",
   "mimetype": "text/x-python",
   "name": "python",
   "nbconvert_exporter": "python",
   "pygments_lexer": "ipython3",
   "version": "3.6.5"
  }
 },
 "nbformat": 4,
 "nbformat_minor": 2
}
